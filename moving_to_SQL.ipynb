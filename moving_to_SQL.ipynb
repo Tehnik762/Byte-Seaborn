{
 "cells": [
  {
   "cell_type": "code",
   "execution_count": 1,
   "id": "3b3af162",
   "metadata": {
    "tags": []
   },
   "outputs": [],
   "source": [
    "import requests\n",
    "import pandas as pd\n",
    "import sqlalchemy\n",
    "# import config - i suggest to create a config.py file with all sensitive data as host, user and password"
   ]
  },
  {
   "cell_type": "code",
   "execution_count": 2,
   "id": "500585f5",
   "metadata": {
    "tags": []
   },
   "outputs": [],
   "source": [
    "schema=\"gans\"\n",
    "port=3306\n",
    "con = f'mysql+pymysql://{config.user}:{config.password}@{config.host}:{port}/{schema}'"
   ]
  },
  {
   "cell_type": "code",
   "execution_count": 4,
   "id": "5e133e60",
   "metadata": {
    "tags": []
   },
   "outputs": [],
   "source": [
    "# reading previously created file\n",
    "cities_df = pd.read_csv(\"cities.csv\")"
   ]
  },
  {
   "cell_type": "code",
   "execution_count": 5,
   "id": "95d1c35f",
   "metadata": {
    "tags": []
   },
   "outputs": [
    {
     "data": {
      "text/plain": [
       "2"
      ]
     },
     "execution_count": 5,
     "metadata": {},
     "output_type": "execute_result"
    }
   ],
   "source": [
    "cities_df.to_sql('cities',\n",
    "              if_exists='append',\n",
    "              con=con,\n",
    "              index=False)"
   ]
  },
  {
   "cell_type": "code",
   "execution_count": 6,
   "id": "76158304",
   "metadata": {
    "tags": []
   },
   "outputs": [],
   "source": [
    "url = \"https://flight-radar1.p.rapidapi.com/airports/list\"\n",
    "\n",
    "headers = {\n",
    "\t\"X-RapidAPI-Key\": \"YOUR_API_KEY\",\n",
    "\t\"X-RapidAPI-Host\": \"flight-radar1.p.rapidapi.com\"\n",
    "}\n",
    "\n",
    "response = requests.get(url, headers=headers)\n"
   ]
  },
  {
   "cell_type": "code",
   "execution_count": 7,
   "id": "6458d645",
   "metadata": {
    "tags": []
   },
   "outputs": [],
   "source": [
    "airports = response.json()\n",
    "airports_df = pd.DataFrame(airports[\"rows\"])\n",
    "airports_df = airports_df[[\"name\", \"icao\", \"city\", \"country\"]]\n",
    "airports_df = airports_df.drop_duplicates()"
   ]
  },
  {
   "cell_type": "code",
   "execution_count": 8,
   "id": "9601a739",
   "metadata": {
    "tags": []
   },
   "outputs": [
    {
     "data": {
      "text/plain": [
       "5434"
      ]
     },
     "execution_count": 8,
     "metadata": {},
     "output_type": "execute_result"
    }
   ],
   "source": [
    "airports_df.to_sql('airports',\n",
    "              if_exists='append',\n",
    "              con=con,\n",
    "              index=False)"
   ]
  }
 ],
 "metadata": {
  "kernelspec": {
   "display_name": "Python 3 (ipykernel)",
   "language": "python",
   "name": "python3"
  },
  "language_info": {
   "codemirror_mode": {
    "name": "ipython",
    "version": 3
   },
   "file_extension": ".py",
   "mimetype": "text/x-python",
   "name": "python",
   "nbconvert_exporter": "python",
   "pygments_lexer": "ipython3",
   "version": "3.11.5"
  }
 },
 "nbformat": 4,
 "nbformat_minor": 5
}
