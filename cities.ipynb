{
 "cells": [
  {
   "cell_type": "code",
   "execution_count": 1,
   "id": "9a2c495d",
   "metadata": {
    "tags": []
   },
   "outputs": [],
   "source": [
    "from bs4 import BeautifulSoup\n",
    "import requests\n",
    "import pandas as pd\n",
    "import re"
   ]
  },
  {
   "cell_type": "markdown",
   "id": "2af72975",
   "metadata": {},
   "source": [
    "# Parsing WIKIPEDIA"
   ]
  },
  {
   "cell_type": "code",
   "execution_count": 2,
   "id": "6a8507ba",
   "metadata": {
    "tags": []
   },
   "outputs": [],
   "source": [
    "cities = []\n",
    "countries = []\n",
    "populations = []\n",
    "timezones = []"
   ]
  },
  {
   "cell_type": "code",
   "execution_count": 3,
   "id": "e23f9e56",
   "metadata": {
    "tags": []
   },
   "outputs": [],
   "source": [
    "links = [\n",
    "    \"https://en.wikipedia.org/wiki/Paris\",\n",
    "    \"https://en.wikipedia.org/wiki/Stuttgart\",\n",
    "]"
   ]
  },
  {
   "cell_type": "code",
   "execution_count": 4,
   "id": "e3b4ff25",
   "metadata": {
    "tags": []
   },
   "outputs": [],
   "source": [
    "pop_names = [\"Total\", \"City\", \"Urban\", \"Metro\"]\n",
    "for link in links:\n",
    "    response = requests.get(link)\n",
    "    soup = BeautifulSoup(response.content, \"html.parser\")\n",
    "    cities.append(soup.select(\"span.mw-page-title-main\")[0].get_text())\n",
    "    rows = soup.find_all('tr', class_='mergedtoprow')\n",
    "    for row in rows:\n",
    "        label_cell = row.find('th', class_='infobox-label')\n",
    "        if label_cell and label_cell.get_text(strip=True) == 'Country':\n",
    "            countries.append(row.find('td', class_='infobox-data').get_text(strip=True))        \n",
    "            break\n",
    "    for row in rows:\n",
    "        label_cell = row.find('th', class_='infobox-label')\n",
    "        if label_cell and label_cell.get_text(strip=True) == 'Time zone':\n",
    "            timezones.append(row.find('td', class_='infobox-data').get_text(strip=True))\n",
    "    merged_rows = soup.find_all('tr', class_='mergedrow')\n",
    "    test_name = 0\n",
    "    test_pop = 0   \n",
    "    for row in merged_rows:\n",
    "        label_cell = row.find('th', class_='infobox-label')\n",
    "        for check in pop_names:\n",
    "            if label_cell and check in label_cell.get_text(strip=True) and test == 0:\n",
    "                test_name = 1\n",
    "                break\n",
    "        if label_cell and test == 1 and test_pop == 0:\n",
    "            temp = row.find('td', class_='infobox-data').get_text(strip=True)\n",
    "            if temp.find(\"(\") < 0:\n",
    "                population = temp.replace(\",\", \"\")\n",
    "                population = re.sub(\"\\[\\d+\\]\", \"\", population)\n",
    "                populations.append(population)\n",
    "                test_pop = 1\n"
   ]
  },
  {
   "cell_type": "code",
   "execution_count": 5,
   "id": "17156da0",
   "metadata": {
    "tags": []
   },
   "outputs": [],
   "source": [
    "cities_df = pd.DataFrame(\n",
    "    {\"city\": cities,\n",
    "     \"country\": countries,\n",
    "     \"population\": populations,\n",
    "     \"timezone\": timezones\n",
    "    }\n",
    ")"
   ]
  },
  {
   "cell_type": "code",
   "execution_count": 6,
   "id": "64edd7ae",
   "metadata": {
    "tags": []
   },
   "outputs": [],
   "source": [
    "cities_df[\"population\"] = pd.to_numeric(cities_df[\"population\"])"
   ]
  },
  {
   "cell_type": "code",
   "execution_count": 7,
   "id": "87fe316e",
   "metadata": {
    "tags": []
   },
   "outputs": [
    {
     "data": {
      "text/html": [
       "<div>\n",
       "<style scoped>\n",
       "    .dataframe tbody tr th:only-of-type {\n",
       "        vertical-align: middle;\n",
       "    }\n",
       "\n",
       "    .dataframe tbody tr th {\n",
       "        vertical-align: top;\n",
       "    }\n",
       "\n",
       "    .dataframe thead th {\n",
       "        text-align: right;\n",
       "    }\n",
       "</style>\n",
       "<table border=\"1\" class=\"dataframe\">\n",
       "  <thead>\n",
       "    <tr style=\"text-align: right;\">\n",
       "      <th></th>\n",
       "      <th>city</th>\n",
       "      <th>country</th>\n",
       "      <th>population</th>\n",
       "      <th>timezone</th>\n",
       "    </tr>\n",
       "  </thead>\n",
       "  <tbody>\n",
       "    <tr>\n",
       "      <th>0</th>\n",
       "      <td>Paris</td>\n",
       "      <td>France</td>\n",
       "      <td>10858852</td>\n",
       "      <td>UTC+01:00(CET)</td>\n",
       "    </tr>\n",
       "    <tr>\n",
       "      <th>1</th>\n",
       "      <td>Stuttgart</td>\n",
       "      <td>Germany</td>\n",
       "      <td>626275</td>\n",
       "      <td>UTC+01:00(CET)</td>\n",
       "    </tr>\n",
       "  </tbody>\n",
       "</table>\n",
       "</div>"
      ],
      "text/plain": [
       "        city  country  population        timezone\n",
       "0      Paris   France    10858852  UTC+01:00(CET)\n",
       "1  Stuttgart  Germany      626275  UTC+01:00(CET)"
      ]
     },
     "execution_count": 7,
     "metadata": {},
     "output_type": "execute_result"
    }
   ],
   "source": [
    "cities_df"
   ]
  },
  {
   "cell_type": "code",
   "execution_count": 8,
   "id": "457fe914",
   "metadata": {
    "tags": []
   },
   "outputs": [],
   "source": [
    "cities_df.to_csv(\"cities.csv\", index=False)"
   ]
  },
  {
   "cell_type": "code",
   "execution_count": null,
   "id": "b2d4f3de",
   "metadata": {},
   "outputs": [],
   "source": []
  }
 ],
 "metadata": {
  "kernelspec": {
   "display_name": "Python 3 (ipykernel)",
   "language": "python",
   "name": "python3"
  },
  "language_info": {
   "codemirror_mode": {
    "name": "ipython",
    "version": 3
   },
   "file_extension": ".py",
   "mimetype": "text/x-python",
   "name": "python",
   "nbconvert_exporter": "python",
   "pygments_lexer": "ipython3",
   "version": "3.11.5"
  }
 },
 "nbformat": 4,
 "nbformat_minor": 5
}
